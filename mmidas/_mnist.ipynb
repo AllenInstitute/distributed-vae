{
 "cells": [
  {
   "cell_type": "code",
   "execution_count": 15,
   "metadata": {},
   "outputs": [
    {
     "name": "stdout",
     "output_type": "stream",
     "text": [
      "The autoreload extension is already loaded. To reload it, use:\n",
      "  %reload_ext autoreload\n"
     ]
    }
   ],
   "source": [
    "import time\n",
    "from typing import Tuple\n",
    "import random\n",
    "\n",
    "import numpy as np\n",
    "import matplotlib.pyplot as plt\n",
    "import torch as th\n",
    "from torch.utils.data import DataLoader\n",
    "from torchvision import datasets, transforms\n",
    "\n",
    "from mmidas.nn_model import mk_vae\n",
    "\n",
    "%load_ext autoreload\n",
    "%autoreload 2"
   ]
  },
  {
   "cell_type": "code",
   "execution_count": 2,
   "metadata": {},
   "outputs": [
    {
     "name": "stderr",
     "output_type": "stream",
     "text": [
      "/home/hilal.mufti/Hilal/distributed-vae/.venv/lib/python3.12/site-packages/torchvision/datasets/mnist.py:52: FutureWarning: You are using `torch.load` with `weights_only=False` (the current default value), which uses the default pickle module implicitly. It is possible to construct malicious pickle data which will execute arbitrary code during unpickling (See https://github.com/pytorch/pytorch/blob/main/SECURITY.md#untrusted-models for more details). In a future release, the default value for `weights_only` will be flipped to `True`. This limits the functions that could be executed during unpickling. Arbitrary objects will no longer be allowed to be loaded via this mode unless they are explicitly allowlisted by the user via `torch.serialization.add_safe_globals`. We recommend you start setting `weights_only=True` for any use case where you don't have full control of the loaded file. Please open an issue on GitHub for any issues related to this experimental feature.\n",
      "  self.train_data, self.train_labels = torch.load(\n",
      "/home/hilal.mufti/Hilal/distributed-vae/.venv/lib/python3.12/site-packages/torchvision/datasets/mnist.py:55: FutureWarning: You are using `torch.load` with `weights_only=False` (the current default value), which uses the default pickle module implicitly. It is possible to construct malicious pickle data which will execute arbitrary code during unpickling (See https://github.com/pytorch/pytorch/blob/main/SECURITY.md#untrusted-models for more details). In a future release, the default value for `weights_only` will be flipped to `True`. This limits the functions that could be executed during unpickling. Arbitrary objects will no longer be allowed to be loaded via this mode unless they are explicitly allowlisted by the user via `torch.serialization.add_safe_globals`. We recommend you start setting `weights_only=True` for any use case where you don't have full control of the loaded file. Please open an issue on GitHub for any issues related to this experimental feature.\n",
      "  self.test_data, self.test_labels = torch.load(\n"
     ]
    }
   ],
   "source": [
    "def load_mnist(B: int) -> Tuple[DataLoader, DataLoader]:\n",
    "    transform = transforms.Compose([transforms.ToTensor(),\n",
    "                                    transforms.Normalize((0.1307,), (0.3081,)),\n",
    "                                    transforms.Lambda(lambda x: x.squeeze(0))])\n",
    "    train_loader = DataLoader(datasets.MNIST('./data', train=True, download=True, transform=transform), batch_size=B, shuffle=True)\n",
    "    test_loader  = DataLoader(datasets.MNIST('./data', train=False, download=True, transform=transform), batch_size=B, shuffle=False)\n",
    "    return train_loader, test_loader\n",
    "\n",
    "def load_cifar10(B: int) -> tuple[DataLoader, DataLoader]:\n",
    "    transform = transforms.Compose([\n",
    "        transforms.ToTensor(),\n",
    "        transforms.Normalize((0.5, 0.5, 0.5), (0.5, 0.5, 0.5))\n",
    "    ])\n",
    "\n",
    "    train_dataset = datasets.CIFAR10(root='./data', train=True,\n",
    "                                                download=True, transform=transform)\n",
    "    test_dataset = datasets.CIFAR10(root='./data', train=False,\n",
    "                                                download=True, transform=transform)\n",
    "\n",
    "    train_loader = DataLoader(train_dataset, batch_size=B, shuffle=True)\n",
    "    test_loader = DataLoader(test_dataset, batch_size=B, shuffle=False)\n",
    "    return train_loader, test_loader\n",
    "\n",
    "\n",
    "def load_fashion_mnist(B: int) -> Tuple[DataLoader, DataLoader]:\n",
    "    transform = transforms.Compose([transforms.ToTensor(),\n",
    "                                    transforms.Normalize((0.5,), (0.5,)),\n",
    "                                    transforms.Lambda(lambda x: th.flatten(x).squeeze(0)),\n",
    "                                    ])\n",
    "    train_dataset = datasets.FashionMNIST('./data', train=True, download=True, transform=transform)\n",
    "    test_dataset = datasets.FashionMNIST('./data', train=False, download=True, transform=transform)\n",
    "    train_loader = DataLoader(train_dataset, batch_size=B, shuffle=True)\n",
    "    test_loader  = DataLoader(test_dataset, batch_size=B, shuffle=False)\n",
    "    return train_loader, test_loader\n",
    "\n",
    "\n",
    "B = 500\n",
    "train_loader, test_loader = load_fashion_mnist(B)\n"
   ]
  },
  {
   "cell_type": "code",
   "execution_count": 4,
   "metadata": {},
   "outputs": [],
   "source": [
    "itos = {\n",
    "    0: 'T-shirt/top',\n",
    "    1: 'Trouser',\n",
    "    2: 'Pullover',\n",
    "    3: 'Dress',\n",
    "    4: 'Coat',\n",
    "    5: 'Sandal',\n",
    "    6: 'Shirt',\n",
    "    7: 'Sneaker',\n",
    "    8: 'Bag',\n",
    "    9: 'Ankle boot'\n",
    "}\n",
    "\n",
    "# TODO: fix this\n",
    "def visualize(samples: int, xs, ys, itos):\n",
    "    classes = itos.values()\n",
    "    K = len(classes)\n",
    "    for (y, cls) in enumerate(classes):\n",
    "        idxs = [i for i in range(samples) if ys[i] == y]\n",
    "        idxs = random.sample(idxs, min(samples, len(idxs)))\n",
    "        for (i, idx) in enumerate(idxs):\n",
    "            plt_idx = i * K + y + 1\n",
    "            plt.subplot(samples, K, plt_idx)\n",
    "            plt.imshow(np.array(xs[idx]), cmap='gray')\n",
    "            plt.axis('off')\n",
    "            if i == 0:\n",
    "                plt.title(cls)\n",
    "    plt.show()"
   ]
  },
  {
   "cell_type": "code",
   "execution_count": 5,
   "metadata": {},
   "outputs": [],
   "source": [
    "device = 'cuda'\n",
    "A = 5\n",
    "model = mk_vae(10, 2, 784, A=A, device=device).to(device)"
   ]
  },
  {
   "cell_type": "code",
   "execution_count": 6,
   "metadata": {},
   "outputs": [
    {
     "name": "stderr",
     "output_type": "stream",
     "text": [
      "/home/hilal.mufti/Hilal/distributed-vae/.venv/lib/python3.12/site-packages/torchvision/transforms/functional.py:63: UserWarning: TypedStorage is deprecated. It will be removed in the future and UntypedStorage will be the only storage class. This should only matter to you if you are using storages directly.  To access UntypedStorage directly, use tensor.untyped_storage() instead of tensor.storage()\n",
      "  img = torch.ByteTensor(torch.ByteStorage.from_buffer(pic.tobytes()))\n"
     ]
    },
    {
     "name": "stdout",
     "output_type": "stream",
     "text": [
      "torch.Size([500, 784])\n",
      "torch.Size([500, 784])\n",
      "torch.Size([500, 784])\n",
      "torch.Size([500, 784])\n",
      "torch.Size([500, 784])\n"
     ]
    },
    {
     "data": {
      "text/plain": [
       "torch.Size([5, 500, 10])"
      ]
     },
     "execution_count": 6,
     "metadata": {},
     "output_type": "execute_result"
    }
   ],
   "source": [
    "(x, y) = next(iter(train_loader))\n",
    "x = x.to(device)\n",
    "y = y.to(device)\n",
    "x_recs, _, _, x_lows, cs, s_smps, c_smps, s_means, s_logvars, c_probs = model([x for _ in range(A)], 1)\n",
    "cs = th.stack(cs)\n",
    "cs.shape"
   ]
  },
  {
   "cell_type": "code",
   "execution_count": 29,
   "metadata": {},
   "outputs": [
    {
     "name": "stdout",
     "output_type": "stream",
     "text": [
      "Naive loss: 340394.8125\n",
      "Vectorized loss: 340394.8125\n",
      "Relative error: 0.0\n",
      "\n",
      "Naive loss computation took: 0.0037140846252441406s\n",
      "Vectorized loss computation took: 0.0005176067352294922s\n",
      "Speedup: 86.06%\n"
     ]
    }
   ],
   "source": [
    "tic = time.time()\n",
    "loss_naive = model.loss_naive(cs)\n",
    "t1 = time.time() - tic\n",
    "\n",
    "tic = time.time()\n",
    "loss_vec = model.loss_vectorize(cs)\n",
    "t2 = time.time() - tic\n",
    "\n",
    "print(f\"Naive loss: {loss_naive.item()}\")\n",
    "print(f\"Vectorized loss: {loss_vec.item()}\")\n",
    "print(f\"Relative error: {th.norm(loss_naive - loss_vec) / th.norm(loss_naive)}\\n\")\n",
    "\n",
    "\n",
    "print(f\"Naive loss computation took: {t1}s\")\n",
    "print(f\"Vectorized loss computation took: {t2}s\")\n",
    "print(f\"Speedup: {100 * (t1 - t2) / t1:.2f}%\")"
   ]
  }
 ],
 "metadata": {
  "kernelspec": {
   "display_name": ".venv",
   "language": "python",
   "name": "python3"
  },
  "language_info": {
   "codemirror_mode": {
    "name": "ipython",
    "version": 3
   },
   "file_extension": ".py",
   "mimetype": "text/x-python",
   "name": "python",
   "nbconvert_exporter": "python",
   "pygments_lexer": "ipython3",
   "version": "3.12.3"
  }
 },
 "nbformat": 4,
 "nbformat_minor": 2
}
